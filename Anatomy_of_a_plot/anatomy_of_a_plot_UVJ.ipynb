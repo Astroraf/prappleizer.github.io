{
 "cells": [
  {
   "cell_type": "markdown",
   "metadata": {},
   "source": [
    "# The UVJ Diagram\n",
    "## Anatomy of an Astronomy Plot (part 1) \n",
    "\n",
    "Hi all! \n",
    "\n",
    "Welcome to the first of a new (hopefully) multi-part series of posts. I had the idea for this series when looking at a few plots that were very helpful and information rich, but also potentially tricky to understand on a quick look. \n",
    "\n",
    "My goal is to tease apart some of these oft-used plots in astronomy (starting with my subfield of galaxy evolution), and describe what they're showing you and how. And lastly, if there are any matplotlib tricks needed to make said plot, I'll talk about that too -- this is learn-astro-python, after all! "
   ]
  },
  {
   "cell_type": "markdown",
   "metadata": {},
   "source": [
    "## UVJ: What is it good for?\n",
    "\n",
    "Astronomers interested in galaxy evolution make a key distinction between two states for galaxies: star forming, and quiescent. Star-forming is as it sounds: There is measured, observational evidence for ongoing star formation in the galaxy. Quiescent, meanwhile, means that the usual indicators for star-formation are missing. It doesn't *necessarily* mean there is no star formation in a galaxy; some residual star formation may exist, but e.g., be very dust obscured. \n",
    "\n",
    "As ample studies have shown, actually measuring the star formation rate (SFR) of a galaxy can be quite challenging, and requires various information about a galaxy (often UV and IR luminosities, spectra (for H$\\alpha$, etc), or full UV-IR photometry for SED fitting). \n",
    "\n",
    "But what if you have a large sample of galaxies, for which the primary existing information is a few common bands of photometry? (Recall: photometry is just the total flux from a source through a given filter). Is there an easy way to select a sample of galaxies that are star forming, or quiescent?\n",
    "\n",
    "That's where the UVJ diagram comes in. While it's not perfect, it allows us to select samples of star forming or quiescent galaxies (roughly, at least), with only 3 pieces of information: **U band flux**, **V band flux**, and **J band flux**. \n",
    "\n",
    "### So how does this work? \n",
    "\n",
    "Before jumping into the plot itself: a quick review of the concept of *color*. In astronomy, the *color* of an object is given by the difference in magnitude between two filters. So we can define the \"B-V color\" of a galaxy as its B band flux minus its V band flux. What this is telling us is, relatively, how much more light is the galaxy emitting at blue wavelengths than in the visual. \n",
    "\n",
    "Color is a quick and easy way to probe the overall spectral shape of a galaxy. If it has way more blue light than red light, it's probably star-forming, as O/B type stars put out light at short wavelengths, and their luminosity is much brighter than older, smaller stars. Meanwhile, if the color of a galaxy is red, then there are no O/B stars, and thus it is less star-forming. \n",
    "\n",
    "So why do we need 3 bands? The reason is there's a catch in what I said above. Galaxies exhibit a degeneracy between *dust* and *age*. That is, both dust, and being dominated by old stellar populations, make a galaxy more red. Thankfully, as we'll see below, if we plot the U-V color agains the V-J color, we can still sucessfully separate these effects out (to first order). \n",
    "\n",
    "Let's jump in! \n",
    "\n"
   ]
  },
  {
   "cell_type": "markdown",
   "metadata": {},
   "source": [
    "<img src=\"img/uvj_example.png\",width=500,height=500>"
   ]
  },
  {
   "cell_type": "markdown",
   "metadata": {},
   "source": [
    "Above, I've included a UVJ plot from some recent research I was doing. Don't worry about the numbering in the points -- those are just ID's for some specific galaxies (or rather, stacks of galaxies... anyways). \n",
    "\n",
    "We can see that on the Y-axis, I have U magnitude - V magnitude, and on the X-axis, V magnitude - J magnitude. \n",
    "\n",
    "This is a good time to note that these colors are **restframe colors** -- that is, how much U, V, and J band light the galaxy **emits**. What we observe is something else, redshifted based on the galaxy's distance. So one must first correct the observed colors to the restframe before making this plot. \n",
    "\n",
    "In addition to the axes, we can see that there's a special \"box\" on the plot, defined by three bounding lines (one of which is diagonal). This is what makes the diagram useful -- everything in the box is \"quiescent\", everything outside the box is star forming. In fact, this is borne out by my plot, which actually includes marginalized sSFRS (sfr per stellar mass) from a full SED fit. Stuff inside the box is redder (lower sSFR), while stuff outside the box is bluer. \n",
    "\n",
    "There are actually 2 axes of evolution on this plot, one in SFR and one in dustiness. That's why we need the diagonal line: "
   ]
  },
  {
   "cell_type": "markdown",
   "metadata": {},
   "source": [
    "<img src=\"img/uvj_example_vectors.png\",width=500,height=500>"
   ]
  },
  {
   "cell_type": "markdown",
   "metadata": {},
   "source": [
    "So, decreasing your start formation moves you perpendicular to the diagonal line, while more dust moves you up and to the right. Why is that?\n",
    "\n",
    "Something I didn't mention above is that magnitudes go the... opposite way one might expect. That is, a lower magnitude is \"brighter\". That means the **smaller** the U-V values, the **more blue** something is. Similarly, the **larger** the V-J color, the **redder** the object (this is because the J band filter is redward of the V; it's in the near-IR). \n",
    "\n",
    "So, a blue, star-forming galaxy that has dust progressively added to it will move along the dust track, getting redder and redder. It's U-V color will also become larger, as U-band light gets absorbed by dust, and the dust then emits the light in the far-IR (but the near-IR flux in J also increases somewhat). \n",
    "\n",
    "Meanwhile, a galaxy somewhere along the sequence that ceases forming stars will primarly just lose U-band light (O/B stars die out), so it moves upward in the plot... but it's not gaining progressively more J band light with respect to V from this effect. \n",
    "\n",
    "You may be wondering if there is an analytic expression for where this box is located. The answer is: Nope -- the place we draw this box is empirically derived. And in fact, the box actually shifts around a little bit as a function of redshift. Essentially, astronomers found that by plotting these parameters, the quiescent things clustered in one way, while the star forming things clustered another way. Most importantly, as we can see, a very dusty, but star forming galaxy can be separated from a quiescent galaxy using this plot. As a note, dust is present in quiescent systems too, and moves galaxies in the same dust-vector direction -- but inside the quiescent box. \n",
    "\n",
    "A definition for the bounding box from Whitaker et al. () is provided below. \n",
    "\n",
    "$$\n",
    "(U-V) > 0.88 \\times (V-J) + 0.59 \\\\\n",
    "(U-V) > 1.3 \\\\\n",
    "(V-J) < 1.6.\n",
    "$$\n",
    "\n",
    "The above is the average for the different redshift bins in that paper, but different equations are provided for specific redshift bins, if you are interested."
   ]
  },
  {
   "cell_type": "markdown",
   "metadata": {},
   "source": []
  }
 ],
 "metadata": {
  "anaconda-cloud": {},
  "kernelspec": {
   "display_name": "Python [Root]",
   "language": "python",
   "name": "Python [Root]"
  },
  "language_info": {
   "codemirror_mode": {
    "name": "ipython",
    "version": 2
   },
   "file_extension": ".py",
   "mimetype": "text/x-python",
   "name": "python",
   "nbconvert_exporter": "python",
   "pygments_lexer": "ipython2",
   "version": "2.7.12"
  }
 },
 "nbformat": 4,
 "nbformat_minor": 2
}
